{
 "cells": [
  {
   "cell_type": "code",
   "execution_count": 1,
   "id": "6b3ffc78",
   "metadata": {},
   "outputs": [],
   "source": [
    "import pandas as pd\n",
    "import numpy as np\n",
    "import os\n",
    "import string\n",
    "from sklearn.feature_extraction.text import CountVectorizer\n",
    "from sklearn.cluster import KMeans\n",
    "from nltk.corpus import stopwords\n",
    "from nltk.stem import WordNetLemmatizer\n",
    "import pandas as pd\n",
    "from sklearn.feature_extraction.text import CountVectorizer\n",
    "import string\n",
    "import matplotlib.pyplot as plt\n"
   ]
  },
  {
   "cell_type": "code",
   "execution_count": 2,
   "id": "3c949ee7",
   "metadata": {},
   "outputs": [],
   "source": [
    "path = os.path.join(os.path.dirname(os.getcwd()),'raw_data')\n",
    "df = pd.read_csv(os.path.join(path,'bbc_final_df.csv'))"
   ]
  },
  {
   "cell_type": "code",
   "execution_count": 3,
   "id": "86cd68e2",
   "metadata": {},
   "outputs": [],
   "source": [
    "df.reset_index(drop=True, inplace=True)"
   ]
  },
  {
   "cell_type": "code",
   "execution_count": null,
   "id": "d926293f",
   "metadata": {},
   "outputs": [],
   "source": [
    "df = df[df['stars']!='n']"
   ]
  },
  {
   "cell_type": "code",
   "execution_count": null,
   "id": "3c5a2580",
   "metadata": {},
   "outputs": [],
   "source": [
    "df = df.sort_values(by='stars', ascending=False).reset_index(drop=True)"
   ]
  },
  {
   "cell_type": "code",
   "execution_count": null,
   "id": "d1c4a614",
   "metadata": {},
   "outputs": [],
   "source": [
    "df"
   ]
  },
  {
   "cell_type": "code",
   "execution_count": null,
   "id": "fa444233",
   "metadata": {},
   "outputs": [],
   "source": [
    "df1 = df[df['preference']=='american']"
   ]
  },
  {
   "cell_type": "code",
   "execution_count": null,
   "id": "e24fc34b",
   "metadata": {},
   "outputs": [],
   "source": [
    "df1.reset_index(drop=True, inplace=True)"
   ]
  },
  {
   "cell_type": "code",
   "execution_count": null,
   "id": "1e1d737e",
   "metadata": {
    "scrolled": true
   },
   "outputs": [],
   "source": [
    "df1"
   ]
  },
  {
   "cell_type": "code",
   "execution_count": null,
   "id": "c79746f3",
   "metadata": {},
   "outputs": [],
   "source": [
    "f = pd.DataFrame(df1.iloc[0]).T"
   ]
  },
  {
   "cell_type": "code",
   "execution_count": null,
   "id": "c815ff9a",
   "metadata": {},
   "outputs": [],
   "source": [
    "f"
   ]
  },
  {
   "cell_type": "code",
   "execution_count": null,
   "id": "1811ddbd",
   "metadata": {},
   "outputs": [],
   "source": [
    "d = pd.concat([df,f])"
   ]
  },
  {
   "cell_type": "code",
   "execution_count": null,
   "id": "03268a16",
   "metadata": {},
   "outputs": [],
   "source": [
    "d"
   ]
  },
  {
   "cell_type": "code",
   "execution_count": 4,
   "id": "0c091182",
   "metadata": {},
   "outputs": [],
   "source": [
    "def model_specific_preprocessing(tokenized_sentence):\n",
    "    stop_words = set(stopwords.words('english'))\n",
    "    no_stopwords = [w for w in tokenized_sentence if not w in stop_words]\n",
    "    verb_lemmatized = [WordNetLemmatizer().lemmatize(tok, pos = \"v\") for tok in no_stopwords]\n",
    "    noun_lemmatized = [WordNetLemmatizer().lemmatize(tok, pos = \"n\")for tok in verb_lemmatized]\n",
    "    ingredient_string = ' '.join(noun_lemmatized)\n",
    "    return ingredient_string\n",
    "\n",
    "def ingredients_list(sample_txt):\n",
    "    elements = []\n",
    "    for punc in string.punctuation:\n",
    "        sample_txt = sample_txt.replace(punc,'')\n",
    "    for word in sample_txt.split():\n",
    "        elements.append(str(word))\n",
    "    return elements"
   ]
  },
  {
   "cell_type": "code",
   "execution_count": 7,
   "id": "ac81f306",
   "metadata": {},
   "outputs": [],
   "source": [
    "def k_means(bbc_final_df, clusters=75, min_df=0.00001, max_df=0.3):\n",
    "    \"\"\"Returns the df inputted with an additional column with their respective cluster.\n",
    "    Ensure that the ingredients columns is a string of a list called 'final_ingredients'.\n",
    "    I.E row 1, col ingredient is '[bread,cheese,pasta,onions]'\"\"\"\n",
    "\n",
    "    # Step 1: Filter out recipes with no names & remove duplicates, keeping dietary info\n",
    "    filtered_df = bbc_final_df[bbc_final_df['recipe_title']!='n']\n",
    "    grouped_df = filtered_df.groupby('recipe_title')['dietary'].apply(lambda x: ', '.join(x)).reset_index().rename(columns = {'dietary':'combined'})\n",
    "    # grouped_df = filtered_df.groupby('recipe_title').sum()[['dietary']].reset_index()\n",
    "    # grouped_df.rename(columns = {'dietary':'combined'}, inplace=True)\n",
    "    merged_df = grouped_df.merge(filtered_df, how='left',on='recipe_title')\n",
    "    #dropped_df = merged_df.drop(columns = 'dietary')\n",
    "    df = merged_df.drop_duplicates('recipe_title')\n",
    "\n",
    "    # Step 2: Convert the final ingredients into a \"sentence\" for vectorising\n",
    "    df['ingredients_list'] = df['final_ingredients'].apply(ingredients_list)\n",
    "    df['clean_text']=df['ingredients_list'].map(lambda x: model_specific_preprocessing(x))\n",
    "\n",
    "    # Step 3: Convert ingredients sentence into a bag-of-words representation\n",
    "    vectorizer = CountVectorizer(min_df=min_df, max_df = max_df)\n",
    "    counted_words = pd.DataFrame(vectorizer.fit_transform(df['clean_text']).toarray(), columns = vectorizer.get_feature_names_out())\n",
    "\n",
    "    # Step 4: Apply KMeans clustering\n",
    "    kmeans = KMeans(n_clusters=clusters, random_state=0)\n",
    "    df['cluster'] = kmeans.fit_predict(counted_words)\n",
    "\n",
    "    return df"
   ]
  },
  {
   "cell_type": "code",
   "execution_count": 8,
   "id": "5bbecf50",
   "metadata": {},
   "outputs": [
    {
     "name": "stderr",
     "output_type": "stream",
     "text": [
      "/var/folders/rp/7ftqrxx9701fy2jzfscnlwyw0000gn/T/ipykernel_89439/2566586226.py:16: SettingWithCopyWarning: \n",
      "A value is trying to be set on a copy of a slice from a DataFrame.\n",
      "Try using .loc[row_indexer,col_indexer] = value instead\n",
      "\n",
      "See the caveats in the documentation: https://pandas.pydata.org/pandas-docs/stable/user_guide/indexing.html#returning-a-view-versus-a-copy\n",
      "  df['ingredients_list'] = df['final_ingredients'].apply(ingredients_list)\n",
      "/var/folders/rp/7ftqrxx9701fy2jzfscnlwyw0000gn/T/ipykernel_89439/2566586226.py:17: SettingWithCopyWarning: \n",
      "A value is trying to be set on a copy of a slice from a DataFrame.\n",
      "Try using .loc[row_indexer,col_indexer] = value instead\n",
      "\n",
      "See the caveats in the documentation: https://pandas.pydata.org/pandas-docs/stable/user_guide/indexing.html#returning-a-view-versus-a-copy\n",
      "  df['clean_text']=df['ingredients_list'].map(lambda x: model_specific_preprocessing(x))\n",
      "/var/folders/rp/7ftqrxx9701fy2jzfscnlwyw0000gn/T/ipykernel_89439/2566586226.py:25: SettingWithCopyWarning: \n",
      "A value is trying to be set on a copy of a slice from a DataFrame.\n",
      "Try using .loc[row_indexer,col_indexer] = value instead\n",
      "\n",
      "See the caveats in the documentation: https://pandas.pydata.org/pandas-docs/stable/user_guide/indexing.html#returning-a-view-versus-a-copy\n",
      "  df['cluster'] = kmeans.fit_predict(counted_words)\n"
     ]
    }
   ],
   "source": [
    "df2= k_means(df)"
   ]
  },
  {
   "cell_type": "code",
   "execution_count": 13,
   "id": "f52a2f10",
   "metadata": {},
   "outputs": [
    {
     "data": {
      "text/plain": [
       "recipe_title                                                  Ajwain puri\n",
       "combined                                    vegetarian, vegan, dairy-free\n",
       "dietary                                                        vegetarian\n",
       "stars                                                                   n\n",
       "prep_times                                                             20\n",
       "cooking_times                                                          20\n",
       "review_count                                                            n\n",
       "difficulty_level                                                        n\n",
       "servings                                                         Serves 4\n",
       "description             Enjoy these flatbread as part on an Indian fea...\n",
       "specific_ingredients    300g ,chapatti flour, ½ tsp ,ajwain,, or cumin...\n",
       "ingredients                                               sunflower oil, \n",
       "preference                                                         indian\n",
       "final_ingredients                                    ['sunflower', 'oil']\n",
       "ingredients_list                                         [sunflower, oil]\n",
       "clean_text                                                  sunflower oil\n",
       "cluster                                                                64\n",
       "Name: 42, dtype: object"
      ]
     },
     "execution_count": 13,
     "metadata": {},
     "output_type": "execute_result"
    }
   ],
   "source": [
    "df2.iloc[35]"
   ]
  },
  {
   "cell_type": "code",
   "execution_count": 15,
   "id": "c088d08b",
   "metadata": {},
   "outputs": [],
   "source": [
    "diet_df= (df2[df2.combined.str.contains('vegan')])"
   ]
  },
  {
   "cell_type": "code",
   "execution_count": 17,
   "id": "6c461cb2",
   "metadata": {},
   "outputs": [
    {
     "data": {
      "text/html": [
       "<div>\n",
       "<style scoped>\n",
       "    .dataframe tbody tr th:only-of-type {\n",
       "        vertical-align: middle;\n",
       "    }\n",
       "\n",
       "    .dataframe tbody tr th {\n",
       "        vertical-align: top;\n",
       "    }\n",
       "\n",
       "    .dataframe thead th {\n",
       "        text-align: right;\n",
       "    }\n",
       "</style>\n",
       "<table border=\"1\" class=\"dataframe\">\n",
       "  <thead>\n",
       "    <tr style=\"text-align: right;\">\n",
       "      <th></th>\n",
       "      <th>recipe_title</th>\n",
       "      <th>combined</th>\n",
       "      <th>dietary</th>\n",
       "      <th>stars</th>\n",
       "      <th>prep_times</th>\n",
       "      <th>cooking_times</th>\n",
       "      <th>review_count</th>\n",
       "      <th>difficulty_level</th>\n",
       "      <th>servings</th>\n",
       "      <th>description</th>\n",
       "      <th>specific_ingredients</th>\n",
       "      <th>ingredients</th>\n",
       "      <th>preference</th>\n",
       "      <th>final_ingredients</th>\n",
       "      <th>ingredients_list</th>\n",
       "      <th>clean_text</th>\n",
       "      <th>cluster</th>\n",
       "    </tr>\n",
       "  </thead>\n",
       "  <tbody>\n",
       "    <tr>\n",
       "      <th>5</th>\n",
       "      <td>10-minute stir-fry</td>\n",
       "      <td>vegan</td>\n",
       "      <td>vegan</td>\n",
       "      <td>4.6</td>\n",
       "      <td>5</td>\n",
       "      <td>5</td>\n",
       "      <td>23.0</td>\n",
       "      <td>Easy</td>\n",
       "      <td>Serves 4</td>\n",
       "      <td>Grill a fillet of fish or chicken and serve wi...</td>\n",
       "      <td>1 tbsp ,vegetable oil, 1 ,red chilli,, sliced ...</td>\n",
       "      <td>red chilli, garlic clove, soy sauce,</td>\n",
       "      <td>asian</td>\n",
       "      <td>['chilli', 'garlic', 'clove', 'soy', 'sauce']</td>\n",
       "      <td>[chilli, garlic, clove, soy, sauce]</td>\n",
       "      <td>chilli garlic cleave soy sauce</td>\n",
       "      <td>11</td>\n",
       "    </tr>\n",
       "    <tr>\n",
       "      <th>20</th>\n",
       "      <td>5-ingredient falafel</td>\n",
       "      <td>vegetarian, vegan, gluten-free, healthy</td>\n",
       "      <td>vegetarian</td>\n",
       "      <td>2.0</td>\n",
       "      <td>10</td>\n",
       "      <td>10</td>\n",
       "      <td>22.0</td>\n",
       "      <td>Easy</td>\n",
       "      <td>Serves 4-5 (makes 20)</td>\n",
       "      <td>Make falafel with just a handful of storecupbo...</td>\n",
       "      <td>125g ,dried chickpeas, ½large ,onion,, roughly...</td>\n",
       "      <td>onion, garlic cloves, olive oil,</td>\n",
       "      <td>middle-eastern</td>\n",
       "      <td>['onion', 'garlic', 'cloves', 'olive', 'oil']</td>\n",
       "      <td>[onion, garlic, cloves, olive, oil]</td>\n",
       "      <td>onion garlic clove olive oil</td>\n",
       "      <td>1</td>\n",
       "    </tr>\n",
       "    <tr>\n",
       "      <th>39</th>\n",
       "      <td>Ajo blanco</td>\n",
       "      <td>vegetarian, vegan, gluten-free</td>\n",
       "      <td>vegetarian</td>\n",
       "      <td>4.0</td>\n",
       "      <td>5</td>\n",
       "      <td>5</td>\n",
       "      <td>2.0</td>\n",
       "      <td>Easy</td>\n",
       "      <td>as a starter</td>\n",
       "      <td>Miriam's easy, chilled almond soup makes a ref...</td>\n",
       "      <td>200g ,blanched almonds, 50ml ,extra virgin oli...</td>\n",
       "      <td>blanched almonds, extra virgin olive oil, garl...</td>\n",
       "      <td>spanish</td>\n",
       "      <td>['almonds', 'olive', 'oil', 'garlic', 'clove']</td>\n",
       "      <td>[almonds, olive, oil, garlic, clove]</td>\n",
       "      <td>almond olive oil garlic cleave</td>\n",
       "      <td>72</td>\n",
       "    </tr>\n",
       "    <tr>\n",
       "      <th>42</th>\n",
       "      <td>Ajwain puri</td>\n",
       "      <td>vegetarian, vegan, dairy-free</td>\n",
       "      <td>vegetarian</td>\n",
       "      <td>n</td>\n",
       "      <td>20</td>\n",
       "      <td>20</td>\n",
       "      <td>n</td>\n",
       "      <td>n</td>\n",
       "      <td>Serves 4</td>\n",
       "      <td>Enjoy these flatbread as part on an Indian fea...</td>\n",
       "      <td>300g ,chapatti flour, ½ tsp ,ajwain,, or cumin...</td>\n",
       "      <td>sunflower oil,</td>\n",
       "      <td>indian</td>\n",
       "      <td>['sunflower', 'oil']</td>\n",
       "      <td>[sunflower, oil]</td>\n",
       "      <td>sunflower oil</td>\n",
       "      <td>64</td>\n",
       "    </tr>\n",
       "    <tr>\n",
       "      <th>82</th>\n",
       "      <td>Aloo chaat</td>\n",
       "      <td>vegan, gluten-free, egg-free</td>\n",
       "      <td>vegan</td>\n",
       "      <td>n</td>\n",
       "      <td>15</td>\n",
       "      <td>30</td>\n",
       "      <td>n</td>\n",
       "      <td>Easy</td>\n",
       "      <td>Serves 4-6</td>\n",
       "      <td>Enjoy a popular Indian festival snack. These l...</td>\n",
       "      <td>750g  ,potatoes, (Maris Piper or King Edward),...</td>\n",
       "      <td>potatoes, red onion, green chillies, ground cu...</td>\n",
       "      <td>indian</td>\n",
       "      <td>['potato', 'onion', 'green', 'chillies', 'cumi...</td>\n",
       "      <td>[potato, onion, green, chillies, cumin, kashmi...</td>\n",
       "      <td>potato onion green chilli cumin kashmiri chill...</td>\n",
       "      <td>27</td>\n",
       "    </tr>\n",
       "    <tr>\n",
       "      <th>...</th>\n",
       "      <td>...</td>\n",
       "      <td>...</td>\n",
       "      <td>...</td>\n",
       "      <td>...</td>\n",
       "      <td>...</td>\n",
       "      <td>...</td>\n",
       "      <td>...</td>\n",
       "      <td>...</td>\n",
       "      <td>...</td>\n",
       "      <td>...</td>\n",
       "      <td>...</td>\n",
       "      <td>...</td>\n",
       "      <td>...</td>\n",
       "      <td>...</td>\n",
       "      <td>...</td>\n",
       "      <td>...</td>\n",
       "      <td>...</td>\n",
       "    </tr>\n",
       "    <tr>\n",
       "      <th>10590</th>\n",
       "      <td>Wilted spinach with nutmeg &amp; garlic</td>\n",
       "      <td>vegetarian, vegan, gluten-free, healthy</td>\n",
       "      <td>vegetarian</td>\n",
       "      <td>4.7</td>\n",
       "      <td>5</td>\n",
       "      <td>5</td>\n",
       "      <td>3.0</td>\n",
       "      <td>Easy</td>\n",
       "      <td>Serves 4</td>\n",
       "      <td>Throw a bag of baby spinach in a wok with some...</td>\n",
       "      <td>1-2 tbsp ,olive oil, 4 ,garlic cloves,, choppe...</td>\n",
       "      <td>olive oil, garlic cloves, bag baby spinach, nu...</td>\n",
       "      <td>british</td>\n",
       "      <td>['olive', 'oil', 'garlic', 'cloves', 'spinach'...</td>\n",
       "      <td>[olive, oil, garlic, cloves, spinach, nutmeg]</td>\n",
       "      <td>olive oil garlic clove spinach nutmeg</td>\n",
       "      <td>1</td>\n",
       "    </tr>\n",
       "    <tr>\n",
       "      <th>10611</th>\n",
       "      <td>Winter vegetable caponata</td>\n",
       "      <td>vegan, gluten-free, dairy-free, egg-free</td>\n",
       "      <td>vegan</td>\n",
       "      <td>3.3</td>\n",
       "      <td>15</td>\n",
       "      <td>45</td>\n",
       "      <td>4.0</td>\n",
       "      <td>Easy</td>\n",
       "      <td>Serves 2</td>\n",
       "      <td>Roast squash and turnips to give a winter veg ...</td>\n",
       "      <td>200g ,squash,, peeled and cubed, 250g ,turnips...</td>\n",
       "      <td>olive oil, leeks, garlic cloves, balsamic vine...</td>\n",
       "      <td>italian</td>\n",
       "      <td>['olive', 'oil', 'leek', 'garlic', 'cloves', '...</td>\n",
       "      <td>[olive, oil, leek, garlic, cloves, balsamic, c...</td>\n",
       "      <td>olive oil leek garlic clove balsamic caper oli...</td>\n",
       "      <td>29</td>\n",
       "    </tr>\n",
       "    <tr>\n",
       "      <th>10629</th>\n",
       "      <td>Yakitori corn pops</td>\n",
       "      <td>vegetarian, vegan</td>\n",
       "      <td>vegetarian</td>\n",
       "      <td>4.3</td>\n",
       "      <td>15</td>\n",
       "      <td>20</td>\n",
       "      <td>3.0</td>\n",
       "      <td>Easy</td>\n",
       "      <td>Makes 8-12 depending on the size of your cobs</td>\n",
       "      <td>Try a new way of serving sweetcorn - skewer sl...</td>\n",
       "      <td>2 ,fresh  corn, cobs, leaves and threads peele...</td>\n",
       "      <td>fresh  corn, sunflower oil,</td>\n",
       "      <td>japanese</td>\n",
       "      <td>['corn', 'sunflower', 'oil']</td>\n",
       "      <td>[corn, sunflower, oil]</td>\n",
       "      <td>corn sunflower oil</td>\n",
       "      <td>64</td>\n",
       "    </tr>\n",
       "    <tr>\n",
       "      <th>10643</th>\n",
       "      <td>Za'atar</td>\n",
       "      <td>vegetarian, vegan, gluten-free</td>\n",
       "      <td>vegetarian</td>\n",
       "      <td>4.8</td>\n",
       "      <td>5</td>\n",
       "      <td>2</td>\n",
       "      <td>6.0</td>\n",
       "      <td>Easy</td>\n",
       "      <td>makes 8</td>\n",
       "      <td>A fragrant Middle Eastern mix that will instan...</td>\n",
       "      <td>2 tbsp ,cumin, 2 tbsp ,sesame seeds, 2 tbsp ,d...</td>\n",
       "      <td>cumin, dried oregano, sumac,</td>\n",
       "      <td>middle-eastern</td>\n",
       "      <td>['cumin', 'oregano', 'sumac']</td>\n",
       "      <td>[cumin, oregano, sumac]</td>\n",
       "      <td>cumin oregano sumac</td>\n",
       "      <td>49</td>\n",
       "    </tr>\n",
       "    <tr>\n",
       "      <th>10649</th>\n",
       "      <td>Zesty beetroot with watercress</td>\n",
       "      <td>vegetarian, vegan</td>\n",
       "      <td>vegetarian</td>\n",
       "      <td>4.6</td>\n",
       "      <td>5</td>\n",
       "      <td>n</td>\n",
       "      <td>5.0</td>\n",
       "      <td>Easy</td>\n",
       "      <td>Serves 6</td>\n",
       "      <td>Add a splash of vibrant colour to a midweek me...</td>\n",
       "      <td>3 tbsp ,olive oil, 2 tbsp ,orange juice, 1 tbs...</td>\n",
       "      <td>olive oil, orange juice, wholegrain mustard, l...</td>\n",
       "      <td>british</td>\n",
       "      <td>['olive', 'oil', 'orange', 'wholegrain', 'must...</td>\n",
       "      <td>[olive, oil, orange, wholegrain, mustard, hand...</td>\n",
       "      <td>olive oil orange wholegrain mustard handful wa...</td>\n",
       "      <td>21</td>\n",
       "    </tr>\n",
       "  </tbody>\n",
       "</table>\n",
       "<p>321 rows × 17 columns</p>\n",
       "</div>"
      ],
      "text/plain": [
       "                              recipe_title  \\\n",
       "5                       10-minute stir-fry   \n",
       "20                    5-ingredient falafel   \n",
       "39                              Ajo blanco   \n",
       "42                             Ajwain puri   \n",
       "82                              Aloo chaat   \n",
       "...                                    ...   \n",
       "10590  Wilted spinach with nutmeg & garlic   \n",
       "10611            Winter vegetable caponata   \n",
       "10629                   Yakitori corn pops   \n",
       "10643                              Za'atar   \n",
       "10649       Zesty beetroot with watercress   \n",
       "\n",
       "                                       combined     dietary stars prep_times  \\\n",
       "5                                         vegan       vegan   4.6          5   \n",
       "20      vegetarian, vegan, gluten-free, healthy  vegetarian   2.0         10   \n",
       "39               vegetarian, vegan, gluten-free  vegetarian   4.0          5   \n",
       "42                vegetarian, vegan, dairy-free  vegetarian     n         20   \n",
       "82                 vegan, gluten-free, egg-free       vegan     n         15   \n",
       "...                                         ...         ...   ...        ...   \n",
       "10590   vegetarian, vegan, gluten-free, healthy  vegetarian   4.7          5   \n",
       "10611  vegan, gluten-free, dairy-free, egg-free       vegan   3.3         15   \n",
       "10629                         vegetarian, vegan  vegetarian   4.3         15   \n",
       "10643            vegetarian, vegan, gluten-free  vegetarian   4.8          5   \n",
       "10649                         vegetarian, vegan  vegetarian   4.6          5   \n",
       "\n",
       "      cooking_times review_count difficulty_level  \\\n",
       "5                 5         23.0             Easy   \n",
       "20               10         22.0             Easy   \n",
       "39                5          2.0             Easy   \n",
       "42               20            n                n   \n",
       "82               30            n             Easy   \n",
       "...             ...          ...              ...   \n",
       "10590             5          3.0             Easy   \n",
       "10611            45          4.0             Easy   \n",
       "10629            20          3.0             Easy   \n",
       "10643             2          6.0             Easy   \n",
       "10649             n          5.0             Easy   \n",
       "\n",
       "                                            servings  \\\n",
       "5                                           Serves 4   \n",
       "20                             Serves 4-5 (makes 20)   \n",
       "39                                      as a starter   \n",
       "42                                          Serves 4   \n",
       "82                                        Serves 4-6   \n",
       "...                                              ...   \n",
       "10590                                       Serves 4   \n",
       "10611                                       Serves 2   \n",
       "10629  Makes 8-12 depending on the size of your cobs   \n",
       "10643                                        makes 8   \n",
       "10649                                       Serves 6   \n",
       "\n",
       "                                             description  \\\n",
       "5      Grill a fillet of fish or chicken and serve wi...   \n",
       "20     Make falafel with just a handful of storecupbo...   \n",
       "39     Miriam's easy, chilled almond soup makes a ref...   \n",
       "42     Enjoy these flatbread as part on an Indian fea...   \n",
       "82     Enjoy a popular Indian festival snack. These l...   \n",
       "...                                                  ...   \n",
       "10590  Throw a bag of baby spinach in a wok with some...   \n",
       "10611  Roast squash and turnips to give a winter veg ...   \n",
       "10629  Try a new way of serving sweetcorn - skewer sl...   \n",
       "10643  A fragrant Middle Eastern mix that will instan...   \n",
       "10649  Add a splash of vibrant colour to a midweek me...   \n",
       "\n",
       "                                    specific_ingredients  \\\n",
       "5      1 tbsp ,vegetable oil, 1 ,red chilli,, sliced ...   \n",
       "20     125g ,dried chickpeas, ½large ,onion,, roughly...   \n",
       "39     200g ,blanched almonds, 50ml ,extra virgin oli...   \n",
       "42     300g ,chapatti flour, ½ tsp ,ajwain,, or cumin...   \n",
       "82     750g  ,potatoes, (Maris Piper or King Edward),...   \n",
       "...                                                  ...   \n",
       "10590  1-2 tbsp ,olive oil, 4 ,garlic cloves,, choppe...   \n",
       "10611  200g ,squash,, peeled and cubed, 250g ,turnips...   \n",
       "10629  2 ,fresh  corn, cobs, leaves and threads peele...   \n",
       "10643  2 tbsp ,cumin, 2 tbsp ,sesame seeds, 2 tbsp ,d...   \n",
       "10649  3 tbsp ,olive oil, 2 tbsp ,orange juice, 1 tbs...   \n",
       "\n",
       "                                             ingredients      preference  \\\n",
       "5                  red chilli, garlic clove, soy sauce,            asian   \n",
       "20                     onion, garlic cloves, olive oil,   middle-eastern   \n",
       "39     blanched almonds, extra virgin olive oil, garl...         spanish   \n",
       "42                                       sunflower oil,           indian   \n",
       "82     potatoes, red onion, green chillies, ground cu...          indian   \n",
       "...                                                  ...             ...   \n",
       "10590  olive oil, garlic cloves, bag baby spinach, nu...         british   \n",
       "10611  olive oil, leeks, garlic cloves, balsamic vine...         italian   \n",
       "10629                       fresh  corn, sunflower oil,         japanese   \n",
       "10643                      cumin, dried oregano, sumac,   middle-eastern   \n",
       "10649  olive oil, orange juice, wholegrain mustard, l...         british   \n",
       "\n",
       "                                       final_ingredients  \\\n",
       "5          ['chilli', 'garlic', 'clove', 'soy', 'sauce']   \n",
       "20         ['onion', 'garlic', 'cloves', 'olive', 'oil']   \n",
       "39        ['almonds', 'olive', 'oil', 'garlic', 'clove']   \n",
       "42                                  ['sunflower', 'oil']   \n",
       "82     ['potato', 'onion', 'green', 'chillies', 'cumi...   \n",
       "...                                                  ...   \n",
       "10590  ['olive', 'oil', 'garlic', 'cloves', 'spinach'...   \n",
       "10611  ['olive', 'oil', 'leek', 'garlic', 'cloves', '...   \n",
       "10629                       ['corn', 'sunflower', 'oil']   \n",
       "10643                      ['cumin', 'oregano', 'sumac']   \n",
       "10649  ['olive', 'oil', 'orange', 'wholegrain', 'must...   \n",
       "\n",
       "                                        ingredients_list  \\\n",
       "5                    [chilli, garlic, clove, soy, sauce]   \n",
       "20                   [onion, garlic, cloves, olive, oil]   \n",
       "39                  [almonds, olive, oil, garlic, clove]   \n",
       "42                                      [sunflower, oil]   \n",
       "82     [potato, onion, green, chillies, cumin, kashmi...   \n",
       "...                                                  ...   \n",
       "10590      [olive, oil, garlic, cloves, spinach, nutmeg]   \n",
       "10611  [olive, oil, leek, garlic, cloves, balsamic, c...   \n",
       "10629                             [corn, sunflower, oil]   \n",
       "10643                            [cumin, oregano, sumac]   \n",
       "10649  [olive, oil, orange, wholegrain, mustard, hand...   \n",
       "\n",
       "                                              clean_text  cluster  \n",
       "5                         chilli garlic cleave soy sauce       11  \n",
       "20                          onion garlic clove olive oil        1  \n",
       "39                        almond olive oil garlic cleave       72  \n",
       "42                                         sunflower oil       64  \n",
       "82     potato onion green chilli cumin kashmiri chill...       27  \n",
       "...                                                  ...      ...  \n",
       "10590              olive oil garlic clove spinach nutmeg        1  \n",
       "10611  olive oil leek garlic clove balsamic caper oli...       29  \n",
       "10629                                 corn sunflower oil       64  \n",
       "10643                                cumin oregano sumac       49  \n",
       "10649  olive oil orange wholegrain mustard handful wa...       21  \n",
       "\n",
       "[321 rows x 17 columns]"
      ]
     },
     "execution_count": 17,
     "metadata": {},
     "output_type": "execute_result"
    }
   ],
   "source": [
    "diet_df"
   ]
  },
  {
   "cell_type": "code",
   "execution_count": null,
   "id": "15eb1e11",
   "metadata": {},
   "outputs": [],
   "source": [
    "from sklearn.feature_extraction.text import CountVectorizer, TfidfVectorizer\n",
    "from sklearn.metrics.pairwise import cosine_similarity"
   ]
  },
  {
   "cell_type": "code",
   "execution_count": null,
   "id": "7a7d5495",
   "metadata": {
    "scrolled": true
   },
   "outputs": [],
   "source": [
    "ingredients_cluster = df1[df1['cluster']==2][['recipe_title','clean_text','cluster']]\n"
   ]
  },
  {
   "cell_type": "code",
   "execution_count": null,
   "id": "39a86f6f",
   "metadata": {},
   "outputs": [],
   "source": [
    "ingredients_cluster = ingredients_cluster.reset_index(drop=True)"
   ]
  },
  {
   "cell_type": "code",
   "execution_count": null,
   "id": "757a17fd",
   "metadata": {},
   "outputs": [],
   "source": []
  },
  {
   "cell_type": "code",
   "execution_count": null,
   "id": "07720de3",
   "metadata": {},
   "outputs": [],
   "source": [
    "ingredients_cluster_list = ingredients_cluster.clean_text.tolist()\n",
    "vectorizer = TfidfVectorizer()\n",
    "vectors = vectorizer.fit_transform(ingredients_cluster_list)\n",
    "similarity = cosine_similarity(vectors)"
   ]
  },
  {
   "cell_type": "code",
   "execution_count": null,
   "id": "c3615d67",
   "metadata": {},
   "outputs": [],
   "source": [
    "similar= pd.DataFrame(similarity)"
   ]
  },
  {
   "cell_type": "code",
   "execution_count": null,
   "id": "83c92b46",
   "metadata": {},
   "outputs": [],
   "source": [
    "similar"
   ]
  },
  {
   "cell_type": "code",
   "execution_count": null,
   "id": "b7d3f93b",
   "metadata": {},
   "outputs": [],
   "source": [
    "#def similarity_cal(index):\n",
    "similar[0].sort_values(ascending=False)"
   ]
  },
  {
   "cell_type": "code",
   "execution_count": null,
   "id": "b7a2424c",
   "metadata": {},
   "outputs": [],
   "source": [
    "ingredients_cluster['sim']=similar[0]"
   ]
  },
  {
   "cell_type": "code",
   "execution_count": null,
   "id": "514ce648",
   "metadata": {},
   "outputs": [],
   "source": [
    "ingredients_cluster.sort_values(by='sim', ascending=False)"
   ]
  },
  {
   "cell_type": "code",
   "execution_count": null,
   "id": "40cc1abb",
   "metadata": {},
   "outputs": [],
   "source": [
    "ingredients_cluster.head(3).clean_text"
   ]
  },
  {
   "cell_type": "code",
   "execution_count": null,
   "id": "e524b9de",
   "metadata": {},
   "outputs": [],
   "source": [
    "p= pd.DataFrame(ingredients_cluster)"
   ]
  },
  {
   "cell_type": "code",
   "execution_count": null,
   "id": "b6ff6fde",
   "metadata": {},
   "outputs": [],
   "source": [
    "p =p.sort_values(by='sim', ascending=False)"
   ]
  },
  {
   "cell_type": "code",
   "execution_count": null,
   "id": "f8a6cb72",
   "metadata": {},
   "outputs": [],
   "source": [
    "p.head(15)"
   ]
  },
  {
   "cell_type": "code",
   "execution_count": null,
   "id": "65e2796e",
   "metadata": {},
   "outputs": [],
   "source": []
  },
  {
   "cell_type": "code",
   "execution_count": null,
   "id": "f9e980e9",
   "metadata": {},
   "outputs": [],
   "source": [
    "def ingredients_list(sample_txt):\n",
    "    elements = []\n",
    "    for punc in string.punctuation:\n",
    "        sample_txt = sample_txt.replace(punc,'')\n",
    "    for word in sample_txt.split():\n",
    "        elements.append(str(word))\n",
    "    return elements\n",
    "\n",
    "def remove_most_common_ings(ing_list):\n",
    "    too_common = ['oil', 'butter', 'salt', 'clove', 'cloves']\n",
    "    no_stopwords = [w for w in ing_list if not w in too_common]\n",
    "    return ' '.join(no_stopwords)"
   ]
  },
  {
   "cell_type": "code",
   "execution_count": null,
   "id": "a1b35a92",
   "metadata": {},
   "outputs": [],
   "source": [
    "df['ingredients_list'] = df['final_ingredients'].apply(ingredients_list)\n",
    "df['temp_nocommon'] = df['ingredients_list'].apply(remove_most_common_ings)\n",
    "df"
   ]
  },
  {
   "cell_type": "code",
   "execution_count": null,
   "id": "dbbf6715",
   "metadata": {},
   "outputs": [],
   "source": [
    "processed_df = pd.read_csv('/Users/camillemolen/code/mfaruki/replenish_frontend/raw_data/model_df.csv')\n"
   ]
  },
  {
   "cell_type": "code",
   "execution_count": null,
   "id": "624ebc80",
   "metadata": {},
   "outputs": [],
   "source": [
    "select = 3"
   ]
  },
  {
   "cell_type": "code",
   "execution_count": null,
   "id": "00dfe956",
   "metadata": {},
   "outputs": [],
   "source": [
    "pd.DataFrame(cuisine_counts).reset_index()"
   ]
  },
  {
   "cell_type": "code",
   "execution_count": null,
   "id": "625d48a5",
   "metadata": {},
   "outputs": [],
   "source": [
    "cluster_counts = processed_df.groupby('cluster')['recipe_title'].count().reset_index()\n",
    "cluster_counts.rename(columns={'recipe_title': 'Number of Recipes'}, inplace=True)\n",
    "\n",
    "cluster_df = processed_df[processed_df['cluster'] == select]\n",
    "cuisine_counts = cluster_df['preference'].value_counts()\n",
    "\n",
    "plt.figure(figsize=(18, 6))\n",
    "plt.bar(x=cuisine_counts.index, height=cuisine_counts.values)\n",
    "plt.xlabel('Preference')\n",
    "plt.ylabel('Number of Recipes')\n",
    "plt.title(f'Cluster {select} - Preference vs. Number of Recipes')\n",
    "plt.xticks(rotation=45)\n",
    "plt.show()"
   ]
  },
  {
   "cell_type": "code",
   "execution_count": null,
   "id": "9d3cea1d",
   "metadata": {},
   "outputs": [],
   "source": []
  }
 ],
 "metadata": {
  "kernelspec": {
   "display_name": "Python 3 (ipykernel)",
   "language": "python",
   "name": "python3"
  },
  "language_info": {
   "codemirror_mode": {
    "name": "ipython",
    "version": 3
   },
   "file_extension": ".py",
   "mimetype": "text/x-python",
   "name": "python",
   "nbconvert_exporter": "python",
   "pygments_lexer": "ipython3",
   "version": "3.10.6"
  },
  "toc": {
   "base_numbering": 1,
   "nav_menu": {},
   "number_sections": true,
   "sideBar": true,
   "skip_h1_title": false,
   "title_cell": "Table of Contents",
   "title_sidebar": "Contents",
   "toc_cell": false,
   "toc_position": {},
   "toc_section_display": true,
   "toc_window_display": false
  }
 },
 "nbformat": 4,
 "nbformat_minor": 5
}
